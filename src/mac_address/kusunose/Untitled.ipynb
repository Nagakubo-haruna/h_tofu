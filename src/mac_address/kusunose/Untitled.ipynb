{
 "cells": [
  {
   "cell_type": "code",
   "execution_count": 1,
   "metadata": {},
   "outputs": [],
   "source": [
    "import re"
   ]
  },
  {
   "cell_type": "code",
   "execution_count": 4,
   "metadata": {},
   "outputs": [
    {
     "name": "stdout",
     "output_type": "stream",
     "text": [
      "web.setup (192.168.0.1) at 00:00:00:00:00:00 on en0 ifscope [ethernet]\n",
      "? (192.168.0.xxx) at 00:00:00:00:00:00 on en0 ifscope [ethernet]\n",
      "? (192.168.0.xxx) at 00:00:00:00:00:00 on en0 ifscope permanent [ethernet]\n",
      "? (192.168.0.xxx) at 00:00:00:00:00:00 on en0 ifscope [ethernet]\n",
      "? (192.168.0.xxx) at 00:00:00:00:00:00 on en0 ifscope [ethernet]\n",
      "? (192.168.0.255) at ff:ff:ff:ff:ff:ff on en0 ifscope [ethernet]\n",
      "? (xxx.xxx.xxx.xxx) at 00:00:00:00:00:00 on en0 ifscope permanent [ethernet]\n",
      "? (xxx.xxx.xxx.xxx) at 00:00:00:00:00:00 on en0 ifscope permanent [ethernet]\n",
      "broadcasthost (255.255.255.255) at ff:ff:ff:ff:ff:ff on en0 ifscope [ethernet]\n",
      "\n"
     ]
    }
   ],
   "source": [
    "with open('caughts', 'r') as f:\n",
    "    reads = f.read()\n",
    "print(reads)"
   ]
  },
  {
   "cell_type": "code",
   "execution_count": 5,
   "metadata": {},
   "outputs": [
    {
     "name": "stdout",
     "output_type": "stream",
     "text": [
      "00:00:00:00:00:00\n",
      "00:00:00:00:00:00\n",
      "00:00:00:00:00:00\n",
      "00:00:00:00:00:00\n",
      "00:00:00:00:00:00\n",
      "ff:ff:ff:ff:ff:ff\n",
      "00:00:00:00:00:00\n",
      "00:00:00:00:00:00\n",
      "ff:ff:ff:ff:ff:ff\n"
     ]
    }
   ],
   "source": [
    "for i  in reads.strip().split('\\n'):\n",
    "    print(re.match('(.*)\\((.*)\\) at (.*) on (.*)', i).groups()[2])"
   ]
  },
  {
   "cell_type": "code",
   "execution_count": 1,
   "metadata": {},
   "outputs": [
    {
     "data": {
      "text/plain": [
       "<firebase_admin.App at 0x7f50403ca358>"
      ]
     },
     "execution_count": 1,
     "metadata": {},
     "output_type": "execute_result"
    }
   ],
   "source": [
    "import firebase_admin\n",
    "from firebase_admin import credentials\n",
    "from firebase_admin import firestore\n",
    "\n",
    "cred = credentials.Certificate(\"hoge.json\")\n",
    "firebase_admin.initialize_app(cred)\n",
    "\n",
    "db = firestore.client()\n",
    "doc_ref = db.collection('users').document('hoge')\n",
    "doc_ref.set({\n",
    "    'first': 'Ada',\n",
    "    'last': 'Lovelace',\n",
    "    'born': 1815\n",
    "})"
   ]
  },
  {
   "cell_type": "code",
   "execution_count": 3,
   "metadata": {},
   "outputs": [
    {
     "data": {
      "text/plain": [
       "update_time {\n",
       "  seconds: 1607129427\n",
       "  nanos: 654472000\n",
       "}"
      ]
     },
     "execution_count": 3,
     "metadata": {},
     "output_type": "execute_result"
    }
   ],
   "source": [
    "db = firestore.client()\n",
    "doc_ref = db.collection('users').document('hoge')\n",
    "doc_ref.set({\n",
    "    'first': 'Ada',\n",
    "    'last': 'Lovelace',\n",
    "    'born': 1815\n",
    "})"
   ]
  },
  {
   "cell_type": "code",
   "execution_count": 2,
   "metadata": {},
   "outputs": [
    {
     "data": {
      "text/plain": [
       "['00:00:00:00:00:00']"
      ]
     },
     "execution_count": 2,
     "metadata": {},
     "output_type": "execute_result"
    }
   ],
   "source": [
    "db = firestore.client()\n",
    "docs = db.collection('members').stream()\n",
    "data = []\n",
    "for doc in docs:\n",
    "    data.append(doc.to_dict()['addr'])\n",
    "data"
   ]
  },
  {
   "cell_type": "code",
   "execution_count": 4,
   "metadata": {},
   "outputs": [],
   "source": []
  },
  {
   "cell_type": "code",
   "execution_count": 10,
   "metadata": {},
   "outputs": [
    {
     "name": "stdout",
     "output_type": "stream",
     "text": [
      "90:72:40:3:66:11\n",
      "b8:27:eb:69:1f:71\n",
      "ff:ff:ff:ff:ff:ff\n",
      "1:0:5e:0:0:fb\n",
      "1:0:5e:7f:ff:fa\n",
      "ff:ff:ff:ff:ff:ff\n"
     ]
    }
   ],
   "source": [
    "\n",
    "with open('caughts', 'r') as f:\n",
    "    reads = f.read()\n",
    "\n",
    "scan = []\n",
    "for i  in reads.strip().split('\\n'):\n",
    "    mac = re.match('(.*)\\((.*)\\) at (.*) on (.*)', i).groups()[2]\n",
    "    if len(mac)>17:\n",
    "        mac = mac[:17]\n",
    "    if ' [ether]' in mac:\n",
    "        mac.replace(' [ether]', '')\n",
    "    print(mac)\n",
    "    "
   ]
  },
  {
   "cell_type": "code",
   "execution_count": 1,
   "metadata": {},
   "outputs": [],
   "source": [
    "import re\n",
    "import subprocess\n",
    "import firebase_admin\n",
    "from firebase_admin import credentials\n",
    "from firebase_admin import firestore\n",
    "\n",
    "cred = credentials.Certificate(\"htohu-881c2-firebase-adminsdk-m6g1v-607ecca66a.json\")\n",
    "firebase_admin.initialize_app(cred)\n",
    "\n",
    "db = firestore.client()\n",
    "docs = db.collection('members').stream()\n",
    "data = []\n",
    "for doc in docs:\n",
    "    data.append(doc.to_dict()['addr'])\n",
    "\n",
    "    \n",
    "with open('caughts', 'w') as f:\n",
    "    cp = subprocess.run(['arp', '-a'], stdout=f)\n",
    "\n",
    "with open('caughts', 'r') as f:\n",
    "    reads = f.read()\n",
    "\n",
    "scan = []\n",
    "for i  in reads.strip().split('\\n'):\n",
    "    mac = re.match('(.*)\\((.*)\\) at (.*) on (.*)', i).groups()[2]\n",
    "    if ' [ether]' in mac:\n",
    "        mac.replace(' [ether]', '')\n",
    "    if len(mac)>17:\n",
    "        mac = mac[:17]\n",
    "    scan.append(mac)\n",
    "    \n",
    "for i in scan:\n",
    "    if i in data:\n",
    "        print(f'{i} is in the room!')"
   ]
  },
  {
   "cell_type": "code",
   "execution_count": 11,
   "metadata": {},
   "outputs": [],
   "source": [
    "with open('caughts', 'w') as f:\n",
    "    cp = subprocess.run(['arp', '-a'], stdout=f)"
   ]
  },
  {
   "cell_type": "code",
   "execution_count": 1,
   "metadata": {},
   "outputs": [
    {
     "name": "stdout",
     "output_type": "stream",
     "text": [
      "now tatal members: 0\n"
     ]
    }
   ],
   "source": [
    "import re\n",
    "import subprocess\n",
    "import firebase_admin\n",
    "from firebase_admin import credentials\n",
    "from firebase_admin import firestore\n",
    "\n",
    "cred = credentials.Certificate(\"htohu-881c2-firebase-adminsdk-m6g1v-607ecca66a.json\")\n",
    "firebase_admin.initialize_app(cred)\n",
    "\n",
    "def load_db():\n",
    "    db = firestore.client()\n",
    "    docs = db.collection('members').stream()\n",
    "    data = []\n",
    "    for doc in docs:\n",
    "        data.append(doc.to_dict()['addr'])\n",
    "    return data\n",
    "    \n",
    "def catch_mac():\n",
    "    with open('caughts', 'w') as f:\n",
    "        cp = subprocess.run(['arp', '-a'], stdout=f)\n",
    "\n",
    "def load_mac():\n",
    "    with open('caughts', 'r') as f:\n",
    "        reads = f.read()\n",
    "\n",
    "    scan = []\n",
    "    for i  in reads.strip().split('\\n'):\n",
    "        mac = re.match('(.*)\\((.*)\\) at (.*) on (.*)', i).groups()[2]\n",
    "        if ' [ether]' in mac:\n",
    "            mac.replace(' [ether]', '')\n",
    "        if len(mac)>17:\n",
    "            mac = mac[:17]\n",
    "        scan.append(mac)\n",
    "        \n",
    "    return scan\n",
    "    \n",
    "if __name__=='__main__':\n",
    "    data = load_db()\n",
    "    catch_mac()\n",
    "    scan = load_mac()\n",
    "    \n",
    "    mem = 0\n",
    "    for i in scan:\n",
    "        if i in data:\n",
    "            mem += 1\n",
    "            print(f'{i} is in the room!')\n",
    "    \n",
    "    print(f'now tatal members: {mem}')"
   ]
  },
  {
   "cell_type": "code",
   "execution_count": 1,
   "metadata": {},
   "outputs": [],
   "source": [
    "from connect_firestore import *"
   ]
  },
  {
   "cell_type": "code",
   "execution_count": 2,
   "metadata": {},
   "outputs": [],
   "source": [
    "data = load_mac()"
   ]
  },
  {
   "cell_type": "code",
   "execution_count": 3,
   "metadata": {},
   "outputs": [
    {
     "data": {
      "text/plain": [
       "['00:00:00:00:00:00']"
      ]
     },
     "execution_count": 3,
     "metadata": {},
     "output_type": "execute_result"
    }
   ],
   "source": [
    "data"
   ]
  },
  {
   "cell_type": "code",
   "execution_count": 2,
   "metadata": {},
   "outputs": [],
   "source": [
    "sounds = load_sound('ID')"
   ]
  },
  {
   "cell_type": "code",
   "execution_count": 3,
   "metadata": {},
   "outputs": [
    {
     "data": {
      "text/plain": [
       "{'volume': 1, 'time': '2020-12-04 10:31:02.913448'}"
      ]
     },
     "execution_count": 3,
     "metadata": {},
     "output_type": "execute_result"
    }
   ],
   "source": [
    "sounds"
   ]
  },
  {
   "cell_type": "code",
   "execution_count": null,
   "metadata": {},
   "outputs": [],
   "source": [
    "import matplotlib.pyplot as plt\n",
    "import seaborn as sns\n",
    "sns.set()"
   ]
  },
  {
   "cell_type": "code",
   "execution_count": 84,
   "metadata": {},
   "outputs": [],
   "source": [
    "id_1 = {'volume': 0.9, 'time': '2020-12-04 10:31:02.913448', 'pos': [0.5, 0.1]}\n",
    "id_2 = {'volume': 0.2, 'time': '2020-12-04 10:31:02.913448', 'pos': [0.8, 0.7]}\n",
    "id_3 = {'volume': 0.4, 'time': '2020-12-04 10:31:02.913448', 'pos': [0.3, 0.7]}\n",
    "vol_max = id_1['volume'] + id_2['volume'] + id_3['volume']\n",
    "vol_1 = id_1['volume'] / vol_max\n",
    "vol_2 = id_2['volume'] / vol_max\n",
    "vol_3 = id_3['volume'] / vol_max"
   ]
  },
  {
   "cell_type": "code",
   "execution_count": 85,
   "metadata": {},
   "outputs": [],
   "source": [
    "center_x = (vol_1*id_1['pos'][0] + vol_2*id_2['pos'][0] + vol_3*id_3['pos'][0]) \n",
    "center_y = (vol_1*id_1['pos'][1] + vol_2*id_2['pos'][1] + vol_3*id_3['pos'][1]) "
   ]
  },
  {
   "cell_type": "code",
   "execution_count": 86,
   "metadata": {},
   "outputs": [
    {
     "name": "stdout",
     "output_type": "stream",
     "text": [
      "0.4866666666666667 0.33999999999999997\n"
     ]
    }
   ],
   "source": [
    "print(center_x, center_y)"
   ]
  },
  {
   "cell_type": "code",
   "execution_count": 87,
   "metadata": {},
   "outputs": [
    {
     "data": {
      "image/png": "[encoded data removed]",
      "text/plain": [
       "<Figure size 576x576 with 1 Axes>"
      ]
     },
     "metadata": {},
     "output_type": "display_data"
    }
   ],
   "source": [
    "plt.figure(figsize=(8.0, 8.0))\n",
    "plt.plot(*id_1['pos'], marker='.', color='blue', markersize=20)\n",
    "plt.annotate('id_1', xy=id_1['pos'], fontsize=20)\n",
    "plt.plot(*id_2['pos'], marker='.', color='blue', markersize=20)\n",
    "plt.annotate('id_2', xy=id_2['pos'], fontsize=20)\n",
    "plt.plot(*id_3['pos'], marker='.', color='blue', markersize=20)\n",
    "plt.annotate('id_3', xy=id_3['pos'], fontsize=20)\n",
    "plt.plot(center_x, center_y, marker='*', color='red', markersize=40)\n",
    "plt.xlim((0, 1))\n",
    "plt.ylim((0, 1))\n",
    "#plt.savefig('sample')\n",
    "plt.show()\n"
   ]
  },
  {
   "cell_type": "code",
   "execution_count": 91,
   "metadata": {},
   "outputs": [
    {
     "data": {
      "text/plain": [
       "'2020-12-04 10:31'"
      ]
     },
     "execution_count": 91,
     "metadata": {},
     "output_type": "execute_result"
    }
   ],
   "source": [
    "id_1['time'].rsplit(':', 1)[0]"
   ]
  },
  {
   "cell_type": "code",
   "execution_count": 97,
   "metadata": {},
   "outputs": [],
   "source": [
    "def fetch_time(id_):\n",
    "    return id_['time'].rsplit(':', 1)[0]"
   ]
  },
  {
   "cell_type": "code",
   "execution_count": 98,
   "metadata": {},
   "outputs": [],
   "source": [
    "#id_1 = load_sound(id1)\n",
    "#id_2 = load_sound(id2)\n",
    "#id_3 = load_sound(id3)\n",
    "\n",
    "id_1_time = fetch_time(id_1)\n",
    "id_2_time = fetch_time(id_2)\n",
    "id_3_time = fetch_time(id_3)\n",
    "\n",
    "if id_1_time==id_2_time==id_3_time:\n",
    "    vol_max = id_1['volume'] + id_2['volume'] + id_3['volume']\n",
    "    vol_1 = id_1['volume'] / vol_max\n",
    "    vol_2 = id_2['volume'] / vol_max\n",
    "    vol_3 = id_3['volume'] / vol_max\n",
    "\n",
    "    center_x = (vol_1*id_1['pos'][0] + vol_2*id_2['pos'][0] + vol_3*id_3['pos'][0]) \n",
    "    center_y = (vol_1*id_1['pos'][1] + vol_2*id_2['pos'][1] + vol_3*id_3['pos'][1]) "
   ]
  },
  {
   "cell_type": "code",
   "execution_count": 99,
   "metadata": {},
   "outputs": [
    {
     "data": {
      "text/plain": [
       "0.4866666666666667"
      ]
     },
     "execution_count": 99,
     "metadata": {},
     "output_type": "execute_result"
    }
   ],
   "source": [
    "center_x"
   ]
  },
  {
   "cell_type": "code",
   "execution_count": null,
   "metadata": {},
   "outputs": [],
   "source": []
  }
 ],
 "metadata": {
  "kernelspec": {
   "display_name": "Python 3",
   "language": "python",
   "name": "python3"
  },
  "language_info": {
   "codemirror_mode": {
    "name": "ipython",
    "version": 3
   },
   "file_extension": ".py",
   "mimetype": "text/x-python",
   "name": "python",
   "nbconvert_exporter": "python",
   "pygments_lexer": "ipython3",
   "version": "3.6.9"
  }
 },
 "nbformat": 4,
 "nbformat_minor": 4
}

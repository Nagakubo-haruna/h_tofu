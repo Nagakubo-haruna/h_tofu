{
 "cells": [
  {
   "cell_type": "code",
   "execution_count": 1,
   "metadata": {},
   "outputs": [],
   "source": [
    "import re"
   ]
  },
  {
   "cell_type": "code",
   "execution_count": 4,
   "metadata": {},
   "outputs": [
    {
     "name": "stdout",
     "output_type": "stream",
     "text": [
      "web.setup (192.168.0.1) at 00:00:00:00:00:00 on en0 ifscope [ethernet]\n",
      "? (192.168.0.xxx) at 00:00:00:00:00:00 on en0 ifscope [ethernet]\n",
      "? (192.168.0.xxx) at 00:00:00:00:00:00 on en0 ifscope permanent [ethernet]\n",
      "? (192.168.0.xxx) at 00:00:00:00:00:00 on en0 ifscope [ethernet]\n",
      "? (192.168.0.xxx) at 00:00:00:00:00:00 on en0 ifscope [ethernet]\n",
      "? (192.168.0.255) at ff:ff:ff:ff:ff:ff on en0 ifscope [ethernet]\n",
      "? (xxx.xxx.xxx.xxx) at 00:00:00:00:00:00 on en0 ifscope permanent [ethernet]\n",
      "? (xxx.xxx.xxx.xxx) at 00:00:00:00:00:00 on en0 ifscope permanent [ethernet]\n",
      "broadcasthost (255.255.255.255) at ff:ff:ff:ff:ff:ff on en0 ifscope [ethernet]\n",
      "\n"
     ]
    }
   ],
   "source": [
    "with open('caughts', 'r') as f:\n",
    "    reads = f.read()\n",
    "print(reads)"
   ]
  },
  {
   "cell_type": "code",
   "execution_count": 5,
   "metadata": {},
   "outputs": [
    {
     "name": "stdout",
     "output_type": "stream",
     "text": [
      "00:00:00:00:00:00\n",
      "00:00:00:00:00:00\n",
      "00:00:00:00:00:00\n",
      "00:00:00:00:00:00\n",
      "00:00:00:00:00:00\n",
      "ff:ff:ff:ff:ff:ff\n",
      "00:00:00:00:00:00\n",
      "00:00:00:00:00:00\n",
      "ff:ff:ff:ff:ff:ff\n"
     ]
    }
   ],
   "source": [
    "for i  in reads.strip().split('\\n'):\n",
    "    print(re.match('(.*)\\((.*)\\) at (.*) on (.*)', i).groups()[2])"
   ]
  },
  {
   "cell_type": "code",
   "execution_count": 2,
   "metadata": {},
   "outputs": [
    {
     "ename": "FileNotFoundError",
     "evalue": "[Errno 2] No such file or directory: 'htohu-881c2-firebase-adminsdk-m6g1v-607ecca66a.json'",
     "output_type": "error",
     "traceback": [
      "\u001b[0;31m---------------------------------------------------------------------------\u001b[0m",
      "\u001b[0;31mFileNotFoundError\u001b[0m                         Traceback (most recent call last)",
      "\u001b[0;32m<ipython-input-2-c24f861b4696>\u001b[0m in \u001b[0;36m<module>\u001b[0;34m\u001b[0m\n\u001b[1;32m      3\u001b[0m \u001b[0;32mfrom\u001b[0m \u001b[0mfirebase_admin\u001b[0m \u001b[0;32mimport\u001b[0m \u001b[0mfirestore\u001b[0m\u001b[0;34m\u001b[0m\u001b[0;34m\u001b[0m\u001b[0m\n\u001b[1;32m      4\u001b[0m \u001b[0;34m\u001b[0m\u001b[0m\n\u001b[0;32m----> 5\u001b[0;31m \u001b[0mcred\u001b[0m \u001b[0;34m=\u001b[0m \u001b[0mcredentials\u001b[0m\u001b[0;34m.\u001b[0m\u001b[0mCertificate\u001b[0m\u001b[0;34m(\u001b[0m\u001b[0;34m\"htohu-881c2-firebase-adminsdk-m6g1v-607ecca66a.json\"\u001b[0m\u001b[0;34m)\u001b[0m\u001b[0;34m\u001b[0m\u001b[0;34m\u001b[0m\u001b[0m\n\u001b[0m\u001b[1;32m      6\u001b[0m \u001b[0mfirebase_admin\u001b[0m\u001b[0;34m.\u001b[0m\u001b[0minitialize_app\u001b[0m\u001b[0;34m(\u001b[0m\u001b[0mcred\u001b[0m\u001b[0;34m)\u001b[0m\u001b[0;34m\u001b[0m\u001b[0;34m\u001b[0m\u001b[0m\n",
      "\u001b[0;32m~/local/python-3.6.9/lib/python3.6/site-packages/firebase_admin/credentials.py\u001b[0m in \u001b[0;36m__init__\u001b[0;34m(self, cert)\u001b[0m\n\u001b[1;32m     80\u001b[0m         \u001b[0msuper\u001b[0m\u001b[0;34m(\u001b[0m\u001b[0mCertificate\u001b[0m\u001b[0;34m,\u001b[0m \u001b[0mself\u001b[0m\u001b[0;34m)\u001b[0m\u001b[0;34m.\u001b[0m\u001b[0m__init__\u001b[0m\u001b[0;34m(\u001b[0m\u001b[0;34m)\u001b[0m\u001b[0;34m\u001b[0m\u001b[0;34m\u001b[0m\u001b[0m\n\u001b[1;32m     81\u001b[0m         \u001b[0;32mif\u001b[0m \u001b[0misinstance\u001b[0m\u001b[0;34m(\u001b[0m\u001b[0mcert\u001b[0m\u001b[0;34m,\u001b[0m \u001b[0mstr\u001b[0m\u001b[0;34m)\u001b[0m\u001b[0;34m:\u001b[0m\u001b[0;34m\u001b[0m\u001b[0;34m\u001b[0m\u001b[0m\n\u001b[0;32m---> 82\u001b[0;31m             \u001b[0;32mwith\u001b[0m \u001b[0mopen\u001b[0m\u001b[0;34m(\u001b[0m\u001b[0mcert\u001b[0m\u001b[0;34m)\u001b[0m \u001b[0;32mas\u001b[0m \u001b[0mjson_file\u001b[0m\u001b[0;34m:\u001b[0m\u001b[0;34m\u001b[0m\u001b[0;34m\u001b[0m\u001b[0m\n\u001b[0m\u001b[1;32m     83\u001b[0m                 \u001b[0mjson_data\u001b[0m \u001b[0;34m=\u001b[0m \u001b[0mjson\u001b[0m\u001b[0;34m.\u001b[0m\u001b[0mload\u001b[0m\u001b[0;34m(\u001b[0m\u001b[0mjson_file\u001b[0m\u001b[0;34m)\u001b[0m\u001b[0;34m\u001b[0m\u001b[0;34m\u001b[0m\u001b[0m\n\u001b[1;32m     84\u001b[0m         \u001b[0;32melif\u001b[0m \u001b[0misinstance\u001b[0m\u001b[0;34m(\u001b[0m\u001b[0mcert\u001b[0m\u001b[0;34m,\u001b[0m \u001b[0mdict\u001b[0m\u001b[0;34m)\u001b[0m\u001b[0;34m:\u001b[0m\u001b[0;34m\u001b[0m\u001b[0;34m\u001b[0m\u001b[0m\n",
      "\u001b[0;31mFileNotFoundError\u001b[0m: [Errno 2] No such file or directory: 'htohu-881c2-firebase-adminsdk-m6g1v-607ecca66a.json'"
     ]
    }
   ],
   "source": [
    "import firebase_admin\n",
    "from firebase_admin import credentials\n",
    "from firebase_admin import firestore\n",
    "\n",
    "cred = credentials.Certificate(\"htohu-881c2-firebase-adminsdk-m6g1v-607ecca66a.json\")\n",
    "firebase_admin.initialize_app(cred)"
   ]
  },
  {
   "cell_type": "code",
   "execution_count": 26,
   "metadata": {},
   "outputs": [
    {
     "name": "stderr",
     "output_type": "stream",
     "text": [
      "ERROR:root:Internal Python error in the inspect module.\n",
      "Below is the traceback from this internal error.\n",
      "\n"
     ]
    },
    {
     "name": "stdout",
     "output_type": "stream",
     "text": [
      "Traceback (most recent call last):\n",
      "  File \"/root/local/python-3.6.9/lib/python3.6/site-packages/IPython/core/interactiveshell.py\", line 3331, in run_code\n",
      "    exec(code_obj, self.user_global_ns, self.user_ns)\n",
      "  File \"<ipython-input-26-28b20da35cdc>\", line 4, in <module>\n",
      "    for doc in docs:\n",
      "  File \"/root/local/python-3.6.9/lib/python3.6/site-packages/google/cloud/firestore_v1/query.py\", line 751, in stream\n",
      "    metadata=self._client._rpc_metadata,\n",
      "  File \"/root/local/python-3.6.9/lib/python3.6/site-packages/google/cloud/firestore_v1/gapic/firestore_client.py\", line 1213, in run_query\n",
      "    request, retry=retry, timeout=timeout, metadata=metadata\n",
      "  File \"/root/local/python-3.6.9/lib/python3.6/site-packages/google/api_core/gapic_v1/method.py\", line 145, in __call__\n",
      "    return wrapped_func(*args, **kwargs)\n",
      "  File \"/root/local/python-3.6.9/lib/python3.6/site-packages/google/api_core/retry.py\", line 286, in retry_wrapped_func\n",
      "    on_error=on_error,\n",
      "  File \"/root/local/python-3.6.9/lib/python3.6/site-packages/google/api_core/retry.py\", line 184, in retry_target\n",
      "    return target()\n",
      "  File \"/root/local/python-3.6.9/lib/python3.6/site-packages/google/api_core/timeout.py\", line 214, in func_with_timeout\n",
      "    return func(*args, **kwargs)\n",
      "  File \"/root/local/python-3.6.9/lib/python3.6/site-packages/google/api_core/grpc_helpers.py\", line 150, in error_remapped_callable\n",
      "    return _StreamingResponseIterator(result, prefetch_first_result=prefetch_first)\n",
      "  File \"/root/local/python-3.6.9/lib/python3.6/site-packages/google/api_core/grpc_helpers.py\", line 73, in __init__\n",
      "    self._stored_first_result = six.next(self._wrapped)\n",
      "  File \"/root/local/python-3.6.9/lib/python3.6/site-packages/grpc/_channel.py\", line 416, in __next__\n",
      "    return self._next()\n",
      "  File \"/root/local/python-3.6.9/lib/python3.6/site-packages/grpc/_channel.py\", line 794, in _next\n",
      "    _common.wait(self._state.condition.wait, _response_ready)\n",
      "  File \"/root/local/python-3.6.9/lib/python3.6/site-packages/grpc/_common.py\", line 141, in wait\n",
      "    _wait_once(wait_fn, MAXIMUM_WAIT_TIMEOUT, spin_cb)\n",
      "  File \"/root/local/python-3.6.9/lib/python3.6/site-packages/grpc/_common.py\", line 106, in _wait_once\n",
      "    wait_fn(timeout=timeout)\n",
      "  File \"/root/local/python-3.6.9/lib/python3.6/threading.py\", line 299, in wait\n",
      "    gotit = waiter.acquire(True, timeout)\n",
      "KeyboardInterrupt\n",
      "\n",
      "During handling of the above exception, another exception occurred:\n",
      "\n",
      "Traceback (most recent call last):\n",
      "  File \"/root/local/python-3.6.9/lib/python3.6/site-packages/IPython/core/interactiveshell.py\", line 2044, in showtraceback\n",
      "    stb = value._render_traceback_()\n",
      "AttributeError: 'KeyboardInterrupt' object has no attribute '_render_traceback_'\n",
      "\n",
      "During handling of the above exception, another exception occurred:\n",
      "\n",
      "Traceback (most recent call last):\n",
      "  File \"/root/local/python-3.6.9/lib/python3.6/site-packages/IPython/core/ultratb.py\", line 1148, in get_records\n",
      "    return _fixed_getinnerframes(etb, number_of_lines_of_context, tb_offset)\n",
      "  File \"/root/local/python-3.6.9/lib/python3.6/site-packages/IPython/core/ultratb.py\", line 316, in wrapped\n",
      "    return f(*args, **kwargs)\n",
      "  File \"/root/local/python-3.6.9/lib/python3.6/site-packages/IPython/core/ultratb.py\", line 350, in _fixed_getinnerframes\n",
      "    records = fix_frame_records_filenames(inspect.getinnerframes(etb, context))\n",
      "  File \"/root/local/python-3.6.9/lib/python3.6/inspect.py\", line 1490, in getinnerframes\n",
      "    frameinfo = (tb.tb_frame,) + getframeinfo(tb, context)\n",
      "  File \"/root/local/python-3.6.9/lib/python3.6/inspect.py\", line 1452, in getframeinfo\n",
      "    lines, lnum = findsource(frame)\n",
      "  File \"/root/local/python-3.6.9/lib/python3.6/site-packages/IPython/core/ultratb.py\", line 182, in findsource\n",
      "    lines = linecache.getlines(file, globals_dict)\n",
      "  File \"/root/local/python-3.6.9/lib/python3.6/linecache.py\", line 47, in getlines\n",
      "    return updatecache(filename, module_globals)\n",
      "  File \"/root/local/python-3.6.9/lib/python3.6/linecache.py\", line 136, in updatecache\n",
      "    with tokenize.open(fullname) as fp:\n",
      "  File \"/root/local/python-3.6.9/lib/python3.6/tokenize.py\", line 454, in open\n",
      "    encoding, lines = detect_encoding(buffer.readline)\n",
      "  File \"/root/local/python-3.6.9/lib/python3.6/tokenize.py\", line 423, in detect_encoding\n",
      "    first = read_or_stop()\n",
      "  File \"/root/local/python-3.6.9/lib/python3.6/tokenize.py\", line 381, in read_or_stop\n",
      "    return readline()\n",
      "KeyboardInterrupt\n"
     ]
    },
    {
     "ename": "KeyboardInterrupt",
     "evalue": "",
     "output_type": "error",
     "traceback": [
      "\u001b[0;31m---------------------------------------------------------------------------\u001b[0m"
     ]
    }
   ],
   "source": [
    "db = firestore.client()\n",
    "docs = db.collection('members').stream()\n",
    "data = []\n",
    "for doc in docs:\n",
    "    data.append(doc.to_dict()['addr'])\n",
    "    \n",
    "data"
   ]
  },
  {
   "cell_type": "code",
   "execution_count": null,
   "metadata": {},
   "outputs": [],
   "source": [
    "doc_ref = db.collection('members')\n",
    "doc_ref.set({\n",
    "    u'first': u'Ada',\n",
    "    u'last': u'Lovelace',\n",
    "    u'born': 1815\n",
    "})"
   ]
  },
  {
   "cell_type": "code",
   "execution_count": 22,
   "metadata": {},
   "outputs": [],
   "source": [
    "doc_ref = db.collection('members').document('hoge')"
   ]
  },
  {
   "cell_type": "code",
   "execution_count": 25,
   "metadata": {},
   "outputs": [
    {
     "ename": "AttributeError",
     "evalue": "'DocumentReference' object has no attribute 'stream'",
     "output_type": "error",
     "traceback": [
      "\u001b[0;31m---------------------------------------------------------------------------\u001b[0m",
      "\u001b[0;31mAttributeError\u001b[0m                            Traceback (most recent call last)",
      "\u001b[0;32m<ipython-input-25-ef2f08633c30>\u001b[0m in \u001b[0;36m<module>\u001b[0;34m\u001b[0m\n\u001b[0;32m----> 1\u001b[0;31m \u001b[0mdoc_ref\u001b[0m\u001b[0;34m.\u001b[0m\u001b[0mstream\u001b[0m\u001b[0;34m(\u001b[0m\u001b[0;34m)\u001b[0m\u001b[0;34m\u001b[0m\u001b[0;34m\u001b[0m\u001b[0m\n\u001b[0m",
      "\u001b[0;31mAttributeError\u001b[0m: 'DocumentReference' object has no attribute 'stream'"
     ]
    }
   ],
   "source": [
    "doc_ref.set({\n",
    "    ''\n",
    "})"
   ]
  },
  {
   "cell_type": "code",
   "execution_count": null,
   "metadata": {},
   "outputs": [],
   "source": []
  }
 ],
 "metadata": {
  "kernelspec": {
   "display_name": "Python 3",
   "language": "python",
   "name": "python3"
  },
  "language_info": {
   "codemirror_mode": {
    "name": "ipython",
    "version": 3
   },
   "file_extension": ".py",
   "mimetype": "text/x-python",
   "name": "python",
   "nbconvert_exporter": "python",
   "pygments_lexer": "ipython3",
   "version": "3.6.9"
  }
 },
 "nbformat": 4,
 "nbformat_minor": 4
}

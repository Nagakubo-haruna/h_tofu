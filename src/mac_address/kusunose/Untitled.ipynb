{
 "cells": [
  {
   "cell_type": "code",
   "execution_count": 1,
   "metadata": {},
   "outputs": [],
   "source": [
    "import re"
   ]
  },
  {
   "cell_type": "code",
   "execution_count": 4,
   "metadata": {},
   "outputs": [
    {
     "name": "stdout",
     "output_type": "stream",
     "text": [
      "web.setup (192.168.0.1) at 00:00:00:00:00:00 on en0 ifscope [ethernet]\n",
      "? (192.168.0.xxx) at 00:00:00:00:00:00 on en0 ifscope [ethernet]\n",
      "? (192.168.0.xxx) at 00:00:00:00:00:00 on en0 ifscope permanent [ethernet]\n",
      "? (192.168.0.xxx) at 00:00:00:00:00:00 on en0 ifscope [ethernet]\n",
      "? (192.168.0.xxx) at 00:00:00:00:00:00 on en0 ifscope [ethernet]\n",
      "? (192.168.0.255) at ff:ff:ff:ff:ff:ff on en0 ifscope [ethernet]\n",
      "? (xxx.xxx.xxx.xxx) at 00:00:00:00:00:00 on en0 ifscope permanent [ethernet]\n",
      "? (xxx.xxx.xxx.xxx) at 00:00:00:00:00:00 on en0 ifscope permanent [ethernet]\n",
      "broadcasthost (255.255.255.255) at ff:ff:ff:ff:ff:ff on en0 ifscope [ethernet]\n",
      "\n"
     ]
    }
   ],
   "source": [
    "with open('caughts', 'r') as f:\n",
    "    reads = f.read()\n",
    "print(reads)"
   ]
  },
  {
   "cell_type": "code",
   "execution_count": 5,
   "metadata": {},
   "outputs": [
    {
     "name": "stdout",
     "output_type": "stream",
     "text": [
      "00:00:00:00:00:00\n",
      "00:00:00:00:00:00\n",
      "00:00:00:00:00:00\n",
      "00:00:00:00:00:00\n",
      "00:00:00:00:00:00\n",
      "ff:ff:ff:ff:ff:ff\n",
      "00:00:00:00:00:00\n",
      "00:00:00:00:00:00\n",
      "ff:ff:ff:ff:ff:ff\n"
     ]
    }
   ],
   "source": [
    "for i  in reads.strip().split('\\n'):\n",
    "    print(re.match('(.*)\\((.*)\\) at (.*) on (.*)', i).groups()[2])"
   ]
  },
  {
   "cell_type": "code",
   "execution_count": 1,
   "metadata": {},
   "outputs": [
    {
     "data": {
      "text/plain": [
       "<firebase_admin.App at 0x7fdc8845d0b8>"
      ]
     },
     "execution_count": 1,
     "metadata": {},
     "output_type": "execute_result"
    }
   ],
   "source": [
    "import firebase_admin\n",
    "from firebase_admin import credentials\n",
    "from firebase_admin import firestore\n",
    "\n",
    "cred = credentials.Certificate(\"htohu-881c2-firebase-adminsdk-m6g1v-607ecca66a.json\")\n",
    "firebase_admin.initialize_app(cred)"
   ]
  },
  {
   "cell_type": "code",
   "execution_count": 2,
   "metadata": {},
   "outputs": [
    {
     "data": {
      "text/plain": [
       "['00:00:00:00:00:00']"
      ]
     },
     "execution_count": 2,
     "metadata": {},
     "output_type": "execute_result"
    }
   ],
   "source": [
    "db = firestore.client()\n",
    "docs = db.collection('members').stream()\n",
    "data = []\n",
    "for doc in docs:\n",
    "    data.append(doc.to_dict()['addr'])\n",
    "data"
   ]
  },
  {
   "cell_type": "code",
   "execution_count": 1,
   "metadata": {},
   "outputs": [
    {
     "name": "stdout",
     "output_type": "stream",
     "text": [
      "00:00:00:00:00:00 is in the room!\n",
      "00:00:00:00:00:00 is in the room!\n",
      "00:00:00:00:00:00 is in the room!\n",
      "00:00:00:00:00:00 is in the room!\n",
      "00:00:00:00:00:00 is in the room!\n",
      "00:00:00:00:00:00 is in the room!\n",
      "00:00:00:00:00:00 is in the room!\n"
     ]
    }
   ],
   "source": [
    "import re\n",
    "import firebase_admin\n",
    "from firebase_admin import credentials\n",
    "from firebase_admin import firestore\n",
    "\n",
    "cred = credentials.Certificate(\"htohu-881c2-firebase-adminsdk-m6g1v-607ecca66a.json\")\n",
    "firebase_admin.initialize_app(cred)\n",
    "\n",
    "db = firestore.client()\n",
    "docs = db.collection('members').stream()\n",
    "data = []\n",
    "for doc in docs:\n",
    "    data.append(doc.to_dict()['addr'])\n",
    "\n",
    "\n",
    "with open('caughts', 'r') as f:\n",
    "    reads = f.read()\n",
    "\n",
    "scan = []\n",
    "for i  in reads.strip().split('\\n'):\n",
    "    scan.append(re.match('(.*)\\((.*)\\) at (.*) on (.*)', i).groups()[2])\n",
    "    \n",
    "for i in scan:\n",
    "    if i in data:\n",
    "        print(f'{i} is in the room!')"
   ]
  },
  {
   "cell_type": "code",
   "execution_count": null,
   "metadata": {},
   "outputs": [],
   "source": []
  },
  {
   "cell_type": "code",
   "execution_count": null,
   "metadata": {},
   "outputs": [],
   "source": []
  }
 ],
 "metadata": {
  "kernelspec": {
   "display_name": "Python 3",
   "language": "python",
   "name": "python3"
  },
  "language_info": {
   "codemirror_mode": {
    "name": "ipython",
    "version": 3
   },
   "file_extension": ".py",
   "mimetype": "text/x-python",
   "name": "python",
   "nbconvert_exporter": "python",
   "pygments_lexer": "ipython3",
   "version": "3.6.9"
  }
 },
 "nbformat": 4,
 "nbformat_minor": 4
}
